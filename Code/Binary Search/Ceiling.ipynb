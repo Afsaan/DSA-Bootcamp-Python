{
 "cells": [
  {
   "cell_type": "code",
   "execution_count": 9,
   "id": "77cecad6",
   "metadata": {},
   "outputs": [
    {
     "name": "stdout",
     "output_type": "stream",
     "text": [
      "match found 34\n"
     ]
    }
   ],
   "source": [
    "target=34\n",
    "flag=0\n",
    "arr=[[1,2,3],[23,34,45],[2,4,6]]\n",
    "for i in arr:\n",
    "    for j in i:\n",
    "        if j==target:\n",
    "            flag=1\n",
    "            print(\"match found\",j)\n",
    "            break\n",
    "if flag==0:\n",
    "    print(\"match NOT found\")"
   ]
  },
  {
   "cell_type": "markdown",
   "id": "9ec9e7f2",
   "metadata": {},
   "source": [
    "# https://codeshare.io/zyWO4D\n"
   ]
  },
  {
   "cell_type": "code",
   "execution_count": 12,
   "id": "b7d948cb",
   "metadata": {},
   "outputs": [
    {
     "name": "stdout",
     "output_type": "stream",
     "text": [
      "Maximum money  12\n"
     ]
    }
   ],
   "source": [
    "def money():\n",
    "    arr=[[1,2,3],[2,4,6]]\n",
    "    max_wealth=0\n",
    "    flag=0\n",
    "    for i in arr:\n",
    "        s=0\n",
    "        for j in i:\n",
    "            s+=j\n",
    "        if max_wealth<s:\n",
    "            max_wealth=s\n",
    "    return max_wealth\n",
    "\n",
    "res=money()\n",
    "print(\"Maximum money \",res)\n"
   ]
  },
  {
   "cell_type": "code",
   "execution_count": 17,
   "id": "ad586f77",
   "metadata": {},
   "outputs": [
    {
     "name": "stdout",
     "output_type": "stream",
     "text": [
      "Search found at  None\n"
     ]
    }
   ],
   "source": [
    "def binary():\n",
    "    arr=[4,6,9,12,19,34,45]\n",
    "    target=9\n",
    "    start=0\n",
    "    end=len(arr)-1\n",
    "    mid=(start+end)//2\n",
    "    if mid==target:\n",
    "        return mid\n",
    "    elif target>mid:\n",
    "        start=mid+1\n",
    "    else:\n",
    "        end=mid-1\n",
    "\n",
    "res=binary()\n",
    "print(\"Search found at \",res)\n"
   ]
  },
  {
   "cell_type": "code",
   "execution_count": 31,
   "id": "e674e0ec",
   "metadata": {},
   "outputs": [
    {
     "name": "stdout",
     "output_type": "stream",
     "text": [
      "Search found at  6\n"
     ]
    }
   ],
   "source": [
    "def binary():\n",
    "    arr=[4,6,9,12,19,34,45]\n",
    "    target=99\n",
    "    start=0\n",
    "    end=len(arr)-1\n",
    "    for i in range(len(arr)-1):\n",
    "        mid=(start+end)//2\n",
    "        if arr[mid]==target:\n",
    "            return mid\n",
    "        elif target>arr[mid]:\n",
    "            start=mid+1\n",
    "        else:\n",
    "            end=mid-1\n",
    "    return mid\n",
    "\n",
    "\n",
    "res=binary()\n",
    "print(\"Search found at \",res)\n"
   ]
  },
  {
   "cell_type": "code",
   "execution_count": 35,
   "id": "cbb23689",
   "metadata": {},
   "outputs": [
    {
     "name": "stdout",
     "output_type": "stream",
     "text": [
      "Search found at  6\n"
     ]
    }
   ],
   "source": [
    "def binary():\n",
    "    arr=[4,6,9,12,19,34,45]\n",
    "    target=99\n",
    "    start=0\n",
    "    end=len(arr)-1\n",
    "    for i in range(len(arr)-1):\n",
    "        mid=(start+end)//2\n",
    "        if arr[mid]==target:\n",
    "            return mid\n",
    "        elif target>arr[mid]:\n",
    "            start=mid+1\n",
    "        elif target<arr[mid]:\n",
    "            end=mid-1\n",
    "        else:\n",
    "            mid=-1\n",
    "            return mid\n",
    "            break\n",
    "    return mid\n",
    "\n",
    "\n",
    "res=binary()\n",
    "print(\"Search found at \",res)\n"
   ]
  },
  {
   "cell_type": "code",
   "execution_count": 85,
   "id": "6cab9e56",
   "metadata": {},
   "outputs": [
    {
     "name": "stdout",
     "output_type": "stream",
     "text": [
      "the index is  3\n"
     ]
    }
   ],
   "source": [
    "arr=[18,12,9,14,77,50]\n",
    "flag=-1\n",
    "for i in range(len(arr)-1):\n",
    "    if arr[i]==14:\n",
    "        print(\"the index is \", i)\n",
    "        flag=1\n",
    "        \n",
    "if flag==-1:\n",
    "    print(\"match not found\",flag)\n"
   ]
  },
  {
   "cell_type": "code",
   "execution_count": 61,
   "id": "032f5677",
   "metadata": {},
   "outputs": [
    {
     "name": "stdout",
     "output_type": "stream",
     "text": [
      "enter the alpha value0.025\n",
      "Point Estimate 41100\n",
      "Interval Estimate range is  39630.0 - 42570.0\n"
     ]
    }
   ],
   "source": [
    "def calculate(sample_mean,st_dev,size):\n",
    "    Z_dict = {0.05:1.68, 0.025:1.96,0.015:1.965}\n",
    "    alpha=float(input(\"enter the alpha value\"))\n",
    "    pe=sample_mean\n",
    "    ie1=pe-Z_dict.get(alpha)*st_dev/math.sqrt(size)\n",
    "    ie2=pe+Z_dict.get(alpha)*st_dev/math.sqrt(size)\n",
    "    print(\"Point Estimate\", pe)\n",
    "    print(\"Interval Estimate range is \" ,ie1, \"-\", ie2)\n",
    "    \n",
    "calculate(41100,4500,36)      \n"
   ]
  },
  {
   "cell_type": "code",
   "execution_count": 68,
   "id": "2dfad2f2",
   "metadata": {},
   "outputs": [
    {
     "name": "stdout",
     "output_type": "stream",
     "text": [
      "Sir What you want to do4\n",
      "please enter a valid input\n"
     ]
    }
   ],
   "source": [
    "def calculate(sample_mean,st_dev,size):\n",
    "    Z_dict = {0.05:1.68, 0.025:1.96,0.03:1.965}\n",
    "    #alpha=float(input(\"enter the alpha value\"))\n",
    "    alpha=0.025\n",
    "    pe=sample_mean\n",
    "    ie1=pe-Z_dict.get(alpha)*st_dev/math.sqrt(size)\n",
    "    ie2=pe+Z_dict.get(alpha)*st_dev/math.sqrt(size)\n",
    "    \n",
    "    user_input=int(input(\"Sir What you want to do\"))\n",
    "    if user_input==1:\n",
    "        print(\"Point Estimate\", pe)\n",
    "    elif user_input==2:\n",
    "        print(\"Interval Estimate range is \" ,ie1, \"-\", ie2)\n",
    "    elif user_input==3:\n",
    "        print(\"Point Estimate\", pe)\n",
    "        print(\"Interval Estimate range is \" ,ie1, \"-\", ie2)\n",
    "    else:\n",
    "        print(\"please enter a valid input\")\n",
    "\n",
    "calculate(41100,4500,36)     "
   ]
  },
  {
   "cell_type": "code",
   "execution_count": 94,
   "id": "59efb597",
   "metadata": {},
   "outputs": [
    {
     "name": "stdout",
     "output_type": "stream",
     "text": [
      "The Data Follows ZZZZZ Distribution\n",
      "Sir What you want to do1\n",
      "Point Estimate 41100\n"
     ]
    }
   ],
   "source": [
    "def calculate(sample_mean,st_dev,size):\n",
    "    \n",
    "    \n",
    "    if size<30:\n",
    "        T_dict = {0.05:1.68, 0.025:1.10,0.03:1.965}\n",
    "        #alpha=float(input(\"enter the alpha value\"))\n",
    "        alpha_by2=0.025\n",
    "        pe=sample_mean\n",
    "        ie1=pe-T_dict.get(alpha_by2)*st_dev/math.sqrt(size)\n",
    "        ie2=pe+T_dict.get(alpha_by2)*st_dev/math.sqrt(size)\n",
    "        print(\"The Data Follows T Distribution\")\n",
    "        \n",
    "    else:\n",
    "        Z_dict = {0.05:1.68, 0.025:1.96,0.03:1.965}\n",
    "        #alpha=float(input(\"enter the alpha value\"))\n",
    "        alpha_by2=0.025\n",
    "        pe=sample_mean\n",
    "        ie1=pe-Z_dict.get(alpha_by2)*st_dev/math.sqrt(size)\n",
    "        ie2=pe+Z_dict.get(alpha_by2)*st_dev/math.sqrt(size)\n",
    "        print(\"The Data Follows ZZZZZ Distribution\")\n",
    "    \n",
    "    user_input=int(input(\"Sir What you want to do\"))\n",
    "    if user_input==1:\n",
    "        print(\"Point Estimate\", pe)\n",
    "    elif user_input==2:\n",
    "        print(\"Interval Estimate range is \" ,ie1, \"-\", ie2)\n",
    "    elif user_input==3:\n",
    "        print(\"Point Estimate\", pe)\n",
    "        print(\"Interval Estimate range is \" ,ie1, \"-\", ie2)\n",
    "    else:\n",
    "        print(\"please enter a valid input\")\n",
    "\n",
    "calculate(41100,4500,100)   "
   ]
  },
  {
   "cell_type": "code",
   "execution_count": null,
   "id": "28417800",
   "metadata": {},
   "outputs": [],
   "source": []
  },
  {
   "cell_type": "code",
   "execution_count": null,
   "id": "877fcc7f",
   "metadata": {},
   "outputs": [],
   "source": []
  },
  {
   "cell_type": "code",
   "execution_count": 47,
   "id": "79b853ad",
   "metadata": {},
   "outputs": [
    {
     "data": {
      "text/plain": [
       "1.96"
      ]
     },
     "execution_count": 47,
     "metadata": {},
     "output_type": "execute_result"
    }
   ],
   "source": [
    "Z_dict = {0.05:1.68, 0.025:1.96}\n",
    "Z_dict.get(0.025)"
   ]
  },
  {
   "cell_type": "code",
   "execution_count": 48,
   "id": "752f707c",
   "metadata": {},
   "outputs": [],
   "source": [
    "import math"
   ]
  },
  {
   "cell_type": "code",
   "execution_count": null,
   "id": "895a1b78",
   "metadata": {},
   "outputs": [],
   "source": [
    "Write a Python Program to calculate the Point Estimates and Interval Estimates.\n",
    "\n",
    "Def estimates (csv, sample_mean=0, std=0, sample_size=0, flag=Y/N):\n",
    "—----------------\n",
    "If (flag == Y):\n",
    "Pandas and numpy to calculate\n",
    "Mean,std,counts etc\n",
    "Else:\n",
    "—----------------\n",
    "Calculate PE & IE Automatically\n",
    "Auto identify the distribution\n",
    "Alpha will be default 5%\n",
    "Define alpha dictionaries to pick the values\n",
    "Z-dict = {0.05:1.65, 0.025:1.96}\n",
    "T-dict ={}\n",
    "—-----------------\n",
    "—-----------------\n",
    "Return outputs\n",
    "Function Call : estimates(41100,4500,36)\n",
    "Output : Sir What you want to do\n",
    "Press 1 for PE\n",
    "Press 2 for IE\n",
    "Press 3 for Both\n",
    "Ans: The data follows the t-distribution with\n",
    "PE is 55\n",
    "IE is 52 to 60\n"
   ]
  },
  {
   "cell_type": "code",
   "execution_count": 143,
   "id": "ed44b46c",
   "metadata": {},
   "outputs": [
    {
     "name": "stdout",
     "output_type": "stream",
     "text": [
      "The Data Follows T Distribution\n",
      "Sir What you want to do3\n",
      "Point Estimate 41100\n",
      "Interval Estimate range is  39534.672558216655 - 42665.327441783345\n"
     ]
    }
   ],
   "source": [
    "def calculate(sample_mean,st_dev,size,flag):\n",
    "    if flag=='Y':\n",
    "        import pandas as pd\n",
    "        import numpy as np\n",
    "        df_train=pd.read_csv(\"HouseData.csv\")\n",
    "        df_train.columns\n",
    "        df_train.describe()\n",
    "        df_train['SalePrice'].describe()\n",
    "        sample_mean=df_train['SalePrice'].mean()\n",
    "        st_dev=df_train['SalePrice'].std()\n",
    "        size=df_train['SalePrice'].count()\n",
    "        print(size)\n",
    "    \n",
    "    else:\n",
    "        pass\n",
    "        \n",
    "        \n",
    "    if size<30:\n",
    "        T_dict = {0.05:1.68, 0.025:1.10,0.03:1.965}\n",
    "        #alpha=float(input(\"enter the alpha value\"))\n",
    "        alpha_by2=0.025\n",
    "        pe=sample_mean\n",
    "        ie1=pe-T_dict.get(alpha_by2)*st_dev/math.sqrt(size)\n",
    "        ie2=pe+T_dict.get(alpha_by2)*st_dev/math.sqrt(size)\n",
    "        print(\"The Data Follows T Distribution\")\n",
    "        \n",
    "    else:\n",
    "        \n",
    "        Z_dict = {0.05:1.68, 0.025:1.96,0.03:1.965}\n",
    "        #alpha=float(input(\"enter the alpha value\"))\n",
    "        alpha_by2=0.025\n",
    "        pe=sample_mean\n",
    "        ie1=pe-Z_dict.get(alpha_by2)*st_dev/math.sqrt(size)\n",
    "        ie2=pe+Z_dict.get(alpha_by2)*st_dev/math.sqrt(size)\n",
    "        print(\"The Data Follows ZZZZZ Distribution\")\n",
    "    \n",
    "    user_input=int(input(\"Sir What you want to do\"))\n",
    "    if user_input==1:\n",
    "        print(\"Point Estimate\", pe)\n",
    "    elif user_input==2:\n",
    "        print(\"Interval Estimate range is \" ,ie1, \"-\", ie2)\n",
    "    elif user_input==3:\n",
    "        print(\"Point Estimate\", pe)\n",
    "        print(\"Interval Estimate range is \" ,ie1, \"-\", ie2)\n",
    "    else:\n",
    "        print(\"please enter a valid input\")\n",
    "\n",
    "#calculate(0,0,0,'Y')\n",
    "calculate(41100,4500,10,'N') # CSV not passed, so pass the other values"
   ]
  },
  {
   "cell_type": "code",
   "execution_count": null,
   "id": "906be4dc",
   "metadata": {},
   "outputs": [],
   "source": [
    "sample_mean,st_dev,size"
   ]
  },
  {
   "cell_type": "code",
   "execution_count": 122,
   "id": "e9a5baef",
   "metadata": {},
   "outputs": [
    {
     "name": "stdout",
     "output_type": "stream",
     "text": [
      "(180921.19589041095, 79442.50288288663)\n"
     ]
    }
   ],
   "source": [
    "        import pandas as pd\n",
    "        import numpy as np\n",
    "        df_train=pd.read_csv(\"HouseData.csv\")\n",
    "        df_train.columns\n",
    "        df_train.describe()\n",
    "        df_train['SalePrice'].describe()\n",
    "        sample_mean=df_train['SalePrice'].mean()\n",
    "        st_dev=df_train['SalePrice'].std()\n",
    "        h=(sample_mean, st_dev)\n",
    "        print(h)"
   ]
  },
  {
   "cell_type": "code",
   "execution_count": 147,
   "id": "634749c2",
   "metadata": {},
   "outputs": [
    {
     "ename": "AttributeError",
     "evalue": "'list' object has no attribute 'sorted'",
     "output_type": "error",
     "traceback": [
      "\u001b[1;31m---------------------------------------------------------------------------\u001b[0m",
      "\u001b[1;31mAttributeError\u001b[0m                            Traceback (most recent call last)",
      "Input \u001b[1;32mIn [147]\u001b[0m, in \u001b[0;36m<cell line: 2>\u001b[1;34m()\u001b[0m\n\u001b[0;32m      1\u001b[0m x\u001b[38;5;241m=\u001b[39m[\u001b[38;5;241m26\u001b[39m, \u001b[38;5;241m33\u001b[39m, \u001b[38;5;241m65\u001b[39m, \u001b[38;5;241m28\u001b[39m, \u001b[38;5;241m34\u001b[39m, \u001b[38;5;241m55\u001b[39m, \u001b[38;5;241m25\u001b[39m, \u001b[38;5;241m44\u001b[39m, \u001b[38;5;241m50\u001b[39m, \u001b[38;5;241m36\u001b[39m, \u001b[38;5;241m26\u001b[39m, \u001b[38;5;241m37\u001b[39m, \u001b[38;5;241m43\u001b[39m, \u001b[38;5;241m62\u001b[39m, \u001b[38;5;241m35\u001b[39m, \u001b[38;5;241m38\u001b[39m, \u001b[38;5;241m45\u001b[39m, \u001b[38;5;241m32\u001b[39m, \u001b[38;5;241m28\u001b[39m, \u001b[38;5;241m34\u001b[39m]\n\u001b[1;32m----> 2\u001b[0m \u001b[38;5;28mprint\u001b[39m(\u001b[43mx\u001b[49m\u001b[38;5;241;43m.\u001b[39;49m\u001b[43msorted\u001b[49m())\n",
      "\u001b[1;31mAttributeError\u001b[0m: 'list' object has no attribute 'sorted'"
     ]
    }
   ],
   "source": [
    "x=[26, 33, 65, 28, 34, 55, 25, 44, 50, 36, 26, 37, 43, 62, 35, 38, 45, 32, 28, 34]\n",
    "print(x.sorted())"
   ]
  },
  {
   "cell_type": "markdown",
   "id": "5d50b7b1",
   "metadata": {},
   "source": [
    "# 12th NOV"
   ]
  },
  {
   "cell_type": "code",
   "execution_count": 149,
   "id": "29b1fa8f",
   "metadata": {},
   "outputs": [
    {
     "name": "stdout",
     "output_type": "stream",
     "text": [
      "Search found at  9\n"
     ]
    }
   ],
   "source": [
    "def binary():\n",
    "    arr=[4,6,9,12,14,15,16,19,34,45]\n",
    "    target=99\n",
    "    start=0\n",
    "    end=len(arr)-1\n",
    "    for i in range(len(arr)-1):\n",
    "        mid=(start+end)//2\n",
    "        mp=mid+1\n",
    "        if arr[mid]==target:\n",
    "            return mid\n",
    "        elif target>arr[mid]:\n",
    "            start=mid+1\n",
    "        else:\n",
    "            end=mid-1\n",
    "    return mid\n",
    "\n",
    "\n",
    "res=binary()\n",
    "print(\"Search found at \",res)\n"
   ]
  },
  {
   "cell_type": "code",
   "execution_count": 158,
   "id": "9314aa4a",
   "metadata": {},
   "outputs": [
    {
     "name": "stdout",
     "output_type": "stream",
     "text": [
      "-1\n"
     ]
    }
   ],
   "source": [
    "## Ceiling\n",
    "\n",
    "array = [2,4,5,9,14,16,18]\n",
    "\n",
    "target = 0\n",
    "\n",
    "def binary_search(array, target):\n",
    "    start = 0\n",
    "    end = len(array)-1\n",
    "\n",
    "    while (start<=end):\n",
    "        middle = (start + end)//2\n",
    "\n",
    "        if array[middle] > target:\n",
    "            end = middle - 1\n",
    "        elif array[middle] < target:\n",
    "            start = middle + 1\n",
    "        else:\n",
    "            return middle\n",
    "\n",
    "    return end\n",
    "\n",
    "result = binary_search(array,target)\n",
    "print(result)"
   ]
  },
  {
   "cell_type": "code",
   "execution_count": 178,
   "id": "27b8531c",
   "metadata": {},
   "outputs": [
    {
     "name": "stdout",
     "output_type": "stream",
     "text": [
      "6\n"
     ]
    }
   ],
   "source": [
    "#Binary Search for Descending Data\n",
    "\n",
    "array = [800,700,78,67,56,45,34,23,12,11]\n",
    "target = 34\n",
    "\n",
    "def binary_search(array, target):\n",
    "    start = 0\n",
    "    end = len(array)-1\n",
    "\n",
    "    while (start<=end):\n",
    "        middle = (start + end)//2\n",
    "\n",
    "        if array[middle] < target:\n",
    "            end = middle - 1\n",
    "        elif array[middle] > target:\n",
    "            start = middle + 1\n",
    "        else:\n",
    "            return middle\n",
    "\n",
    "    return -1\n",
    "\n",
    "result = binary_search(array,target)\n",
    "print(result)\n"
   ]
  },
  {
   "cell_type": "code",
   "execution_count": 180,
   "id": "d0fa776c",
   "metadata": {},
   "outputs": [
    {
     "name": "stdout",
     "output_type": "stream",
     "text": [
      "4\n"
     ]
    }
   ],
   "source": [
    "#Binary Search for Ascending Data\n",
    "\n",
    "array = [8,34,70,78,89,99]\n",
    "target = 89\n",
    "\n",
    "def binary_search(array, target):\n",
    "    start = 0\n",
    "    end = len(array)-1\n",
    "\n",
    "    while (start<=end):\n",
    "        middle = (start + end)//2\n",
    "\n",
    "        if array[middle] > target:\n",
    "            end = middle - 1\n",
    "        elif array[middle] < target:\n",
    "            start = middle + 1\n",
    "        else:\n",
    "            return middle\n",
    "\n",
    "    return -1\n",
    "\n",
    "result = binary_search(array,target)\n",
    "print(result)\n"
   ]
  },
  {
   "cell_type": "code",
   "execution_count": 186,
   "id": "a947bd79",
   "metadata": {},
   "outputs": [
    {
     "name": "stdout",
     "output_type": "stream",
     "text": [
      "2\n"
     ]
    }
   ],
   "source": [
    "#Combined Binary Search\n",
    "\n",
    "#array = [8,34,70,78,89,99]\n",
    "array = [800,700,89,78,67,56,45,34,23,12,11]\n",
    "\n",
    "target = 89\n",
    "\n",
    "def binary_search(array, target):\n",
    "    start = 0\n",
    "    end = len(array)-1\n",
    "\n",
    "    while (start<=end):\n",
    "        middle = (start + end)//2\n",
    "        \n",
    "        if array[start]<array[end]:\n",
    "            \n",
    "            if array[middle] > target:\n",
    "                end = middle - 1\n",
    "            elif array[middle] < target:\n",
    "                start = middle + 1\n",
    "            else:\n",
    "                return middle\n",
    "                break\n",
    "            \n",
    "        else:\n",
    "            if array[middle] < target:\n",
    "                end = middle - 1\n",
    "            elif array[middle] > target:\n",
    "                start = middle + 1\n",
    "            else:\n",
    "                return middle\n",
    "\n",
    "    return -1\n",
    "\n",
    "result = binary_search(array,target)\n",
    "print(result)\n"
   ]
  }
 ],
 "metadata": {
  "kernelspec": {
   "display_name": "Python 3 (ipykernel)",
   "language": "python",
   "name": "python3"
  },
  "language_info": {
   "codemirror_mode": {
    "name": "ipython",
    "version": 3
   },
   "file_extension": ".py",
   "mimetype": "text/x-python",
   "name": "python",
   "nbconvert_exporter": "python",
   "pygments_lexer": "ipython3",
   "version": "3.9.12"
  }
 },
 "nbformat": 4,
 "nbformat_minor": 5
}
